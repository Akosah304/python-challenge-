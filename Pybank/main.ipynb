{
 "cells": [
  {
   "cell_type": "code",
   "execution_count": 1042,
   "metadata": {},
   "outputs": [],
   "source": [
    "from pathlib import Path\n",
    "import csv\n"
   ]
  },
  {
   "cell_type": "code",
   "execution_count": 1043,
   "metadata": {},
   "outputs": [],
   "source": [
    "# Import csv file\n",
    "filepath = Path(\"Resources/budget_data.csv\")"
   ]
  },
  {
   "cell_type": "code",
   "execution_count": 1044,
   "metadata": {},
   "outputs": [
    {
     "name": "stdout",
     "output_type": "stream",
     "text": [
      "Resources\\budget_data.csv\n"
     ]
    }
   ],
   "source": [
    "print(filepath)"
   ]
  },
  {
   "cell_type": "code",
   "execution_count": 1045,
   "metadata": {},
   "outputs": [],
   "source": [
    "# Define variables\n",
    "total_months = 0\n",
    "net_total = 0\n",
    "average = 0\n",
    "minimum = 0\n",
    "maximum = 0\n",
    "value = 0\n"
   ]
  },
  {
   "cell_type": "code",
   "execution_count": 1046,
   "metadata": {},
   "outputs": [],
   "source": [
    "# Define variables\n",
    "max_date = []\n",
    "min_date = []\n",
    "list_Date = []\n",
    "list_profit_loss = []\n",
    "list_change_profit = []\n",
    "row_list = []\n",
    "months = []\n",
    "total_profit = []"
   ]
  },
  {
   "cell_type": "code",
   "execution_count": 1047,
   "metadata": {},
   "outputs": [
    {
     "name": "stdout",
     "output_type": "stream",
     "text": [
      "867884\n",
      "Jan-10\n",
      "984655\n",
      "Feb-10\n",
      "322013\n",
      "Mar-10\n",
      "-69417\n",
      "Apr-10\n",
      "310503\n",
      "May-10\n",
      "522857\n",
      "Jun-10\n",
      "1033096\n",
      "Jul-10\n",
      "604885\n",
      "Aug-10\n",
      "-216386\n",
      "Sep-10\n",
      "477532\n",
      "Oct-10\n",
      "893810\n",
      "Nov-10\n",
      "-80353\n",
      "Dec-10\n",
      "779806\n",
      "Jan-11\n",
      "-335203\n",
      "Feb-11\n",
      "697845\n",
      "Mar-11\n",
      "793163\n",
      "Apr-11\n",
      "485070\n",
      "May-11\n",
      "584122\n",
      "Jun-11\n",
      "62729\n",
      "Jul-11\n",
      "668179\n",
      "Aug-11\n",
      "899906\n",
      "Sep-11\n",
      "834719\n",
      "Oct-11\n",
      "132003\n",
      "Nov-11\n",
      "309978\n",
      "Dec-11\n",
      "-755566\n",
      "Jan-12\n",
      "1170593\n",
      "Feb-12\n",
      "252788\n",
      "Mar-12\n",
      "1151518\n",
      "Apr-12\n",
      "817256\n",
      "May-12\n",
      "570757\n",
      "Jun-12\n",
      "506702\n",
      "Jul-12\n",
      "-1022534\n",
      "Aug-12\n",
      "475062\n",
      "Sep-12\n",
      "779976\n",
      "Oct-12\n",
      "144175\n",
      "Nov-12\n",
      "542494\n",
      "Dec-12\n",
      "359333\n",
      "Jan-13\n",
      "321469\n",
      "Feb-13\n",
      "67780\n",
      "Mar-13\n",
      "471435\n",
      "Apr-13\n",
      "565603\n",
      "May-13\n",
      "872480\n",
      "Jun-13\n",
      "789480\n",
      "Jul-13\n",
      "999942\n",
      "Aug-13\n",
      "-1196225\n",
      "Sep-13\n",
      "268997\n",
      "Oct-13\n",
      "-687986\n",
      "Nov-13\n",
      "1150461\n",
      "Dec-13\n",
      "682458\n",
      "Jan-14\n",
      "617856\n",
      "Feb-14\n",
      "824098\n",
      "Mar-14\n",
      "581943\n",
      "Apr-14\n",
      "132864\n",
      "May-14\n",
      "448062\n",
      "Jun-14\n",
      "689161\n",
      "Jul-14\n",
      "800701\n",
      "Aug-14\n",
      "1166643\n",
      "Sep-14\n",
      "947333\n",
      "Oct-14\n",
      "578668\n",
      "Nov-14\n",
      "988505\n",
      "Dec-14\n",
      "1139715\n",
      "Jan-15\n",
      "1029471\n",
      "Feb-15\n",
      "687533\n",
      "Mar-15\n",
      "-524626\n",
      "Apr-15\n",
      "158620\n",
      "May-15\n",
      "87795\n",
      "Jun-15\n",
      "423389\n",
      "Jul-15\n",
      "840723\n",
      "Aug-15\n",
      "568529\n",
      "Sep-15\n",
      "332067\n",
      "Oct-15\n",
      "989499\n",
      "Nov-15\n",
      "778237\n",
      "Dec-15\n",
      "650000\n",
      "Jan-16\n",
      "-1100387\n",
      "Feb-16\n",
      "-174946\n",
      "Mar-16\n",
      "757143\n",
      "Apr-16\n",
      "445709\n",
      "May-16\n",
      "712961\n",
      "Jun-16\n",
      "-1163797\n",
      "Jul-16\n",
      "569899\n",
      "Aug-16\n",
      "768450\n",
      "Sep-16\n",
      "102685\n",
      "Oct-16\n",
      "795914\n",
      "Nov-16\n",
      "60988\n",
      "Dec-16\n",
      "138230\n",
      "Jan-17\n",
      "671099\n",
      "Feb-17\n"
     ]
    }
   ],
   "source": [
    "with open(filepath, newline=\"\") as budget_file:\n",
    "    csvreader = csv.reader(budget_file,delimiter=\",\")\n",
    "    header = next(csvreader)\n",
    "    for row in csvreader:\n",
    "        dates = str(row[0])\n",
    "        profit_losses = int(row[1])\n",
    "        print(int(row[1]))\n",
    "        months.append(dates)\n",
    "        print(dates)\n",
    "        total_profit.append(profit_losses)\n",
    "     \n"
   ]
  },
  {
   "cell_type": "code",
   "execution_count": 1048,
   "metadata": {},
   "outputs": [
    {
     "name": "stdout",
     "output_type": "stream",
     "text": [
      "['Jan-10', 'Feb-10', 'Mar-10', 'Apr-10', 'May-10', 'Jun-10', 'Jul-10', 'Aug-10', 'Sep-10', 'Oct-10', 'Nov-10', 'Dec-10', 'Jan-11', 'Feb-11', 'Mar-11', 'Apr-11', 'May-11', 'Jun-11', 'Jul-11', 'Aug-11', 'Sep-11', 'Oct-11', 'Nov-11', 'Dec-11', 'Jan-12', 'Feb-12', 'Mar-12', 'Apr-12', 'May-12', 'Jun-12', 'Jul-12', 'Aug-12', 'Sep-12', 'Oct-12', 'Nov-12', 'Dec-12', 'Jan-13', 'Feb-13', 'Mar-13', 'Apr-13', 'May-13', 'Jun-13', 'Jul-13', 'Aug-13', 'Sep-13', 'Oct-13', 'Nov-13', 'Dec-13', 'Jan-14', 'Feb-14', 'Mar-14', 'Apr-14', 'May-14', 'Jun-14', 'Jul-14', 'Aug-14', 'Sep-14', 'Oct-14', 'Nov-14', 'Dec-14', 'Jan-15', 'Feb-15', 'Mar-15', 'Apr-15', 'May-15', 'Jun-15', 'Jul-15', 'Aug-15', 'Sep-15', 'Oct-15', 'Nov-15', 'Dec-15', 'Jan-16', 'Feb-16', 'Mar-16', 'Apr-16', 'May-16', 'Jun-16', 'Jul-16', 'Aug-16', 'Sep-16', 'Oct-16', 'Nov-16', 'Dec-16', 'Jan-17', 'Feb-17']\n"
     ]
    }
   ],
   "source": [
    "print(months)"
   ]
  },
  {
   "cell_type": "code",
   "execution_count": 1049,
   "metadata": {},
   "outputs": [
    {
     "name": "stdout",
     "output_type": "stream",
     "text": [
      "86\n"
     ]
    }
   ],
   "source": [
    "total_months = len(months)\n",
    "print(total_months)"
   ]
  },
  {
   "cell_type": "code",
   "execution_count": 1050,
   "metadata": {},
   "outputs": [
    {
     "name": "stdout",
     "output_type": "stream",
     "text": [
      "[867884, 984655, 322013, -69417, 310503, 522857, 1033096, 604885, -216386, 477532, 893810, -80353, 779806, -335203, 697845, 793163, 485070, 584122, 62729, 668179, 899906, 834719, 132003, 309978, -755566, 1170593, 252788, 1151518, 817256, 570757, 506702, -1022534, 475062, 779976, 144175, 542494, 359333, 321469, 67780, 471435, 565603, 872480, 789480, 999942, -1196225, 268997, -687986, 1150461, 682458, 617856, 824098, 581943, 132864, 448062, 689161, 800701, 1166643, 947333, 578668, 988505, 1139715, 1029471, 687533, -524626, 158620, 87795, 423389, 840723, 568529, 332067, 989499, 778237, 650000, -1100387, -174946, 757143, 445709, 712961, -1163797, 569899, 768450, 102685, 795914, 60988, 138230, 671099]\n"
     ]
    }
   ],
   "source": [
    "print(total_profit)"
   ]
  },
  {
   "cell_type": "code",
   "execution_count": 1051,
   "metadata": {},
   "outputs": [
    {
     "name": "stdout",
     "output_type": "stream",
     "text": [
      "Total: $ 38382578\n"
     ]
    }
   ],
   "source": [
    "net_total_profit = sum(total_profit)\n",
    "print(\"Total: $\",net_total_profit)"
   ]
  },
  {
   "cell_type": "code",
   "execution_count": 1052,
   "metadata": {},
   "outputs": [],
   "source": [
    "months = []\n",
    "changes_in_revenue = []"
   ]
  },
  {
   "cell_type": "code",
   "execution_count": 1053,
   "metadata": {},
   "outputs": [],
   "source": [
    "changes_in_revenue =[]\n",
    "for i in range(1, len(total_profit)):\n",
    "     changes_in_revenue.append((int(total_profit[i]) - int(total_profit[i-1])))\n",
    "     average = sum(changes_in_revenue)/len(changes_in_revenue)"
   ]
  },
  {
   "cell_type": "code",
   "execution_count": 1054,
   "metadata": {},
   "outputs": [
    {
     "name": "stdout",
     "output_type": "stream",
     "text": [
      "Average Change: $-2315.12\n"
     ]
    }
   ],
   "source": [
    "print(\"Average Change: ${:.2f}\".format(average))"
   ]
  },
  {
   "cell_type": "code",
   "execution_count": 1055,
   "metadata": {},
   "outputs": [
    {
     "ename": "TypeError",
     "evalue": "'int' object is not callable",
     "output_type": "error",
     "traceback": [
      "\u001b[1;31m---------------------------------------------------------------------------\u001b[0m",
      "\u001b[1;31mTypeError\u001b[0m                                 Traceback (most recent call last)",
      "\u001b[1;32mc:\\Users\\oakos\\Desktop\\python-challenge- - Copy\\Pybank\\main.ipynb Cell 14\u001b[0m line \u001b[0;36m1\n\u001b[1;32m----> <a href='vscode-notebook-cell:/c%3A/Users/oakos/Desktop/python-challenge-%20-%20Copy/Pybank/main.ipynb#X54sZmlsZQ%3D%3D?line=0'>1</a>\u001b[0m profit_inc \u001b[39m=\u001b[39m maximum(changes_in_revenue)\n\u001b[0;32m      <a href='vscode-notebook-cell:/c%3A/Users/oakos/Desktop/python-challenge-%20-%20Copy/Pybank/main.ipynb#X54sZmlsZQ%3D%3D?line=1'>2</a>\u001b[0m \u001b[39mprint\u001b[39m(\u001b[39mf\u001b[39m\u001b[39m\"\u001b[39m\u001b[39mGreatest Increase in Profits: \u001b[39m\u001b[39m{\u001b[39;00m\u001b[39mstr\u001b[39m(months[changes_in_revenue\u001b[39m.\u001b[39mindex(maximum(changes_in_revenue))\u001b[39m+\u001b[39m\u001b[39m1\u001b[39m])\u001b[39m}\u001b[39;00m\u001b[39m ($\u001b[39m\u001b[39m{\u001b[39;00mprofit_inc\u001b[39m}\u001b[39;00m\u001b[39m)\u001b[39m\u001b[39m\"\u001b[39m)\n",
      "\u001b[1;31mTypeError\u001b[0m: 'int' object is not callable"
     ]
    }
   ],
   "source": [
    "profit_inc = maximum(changes_in_revenue)\n",
    "print(f\"Greatest Increase in Profits: {str(months[changes_in_revenue.index(maximum(changes_in_revenue))+1])} (${profit_inc})\")"
   ]
  },
  {
   "cell_type": "code",
   "execution_count": null,
   "metadata": {},
   "outputs": [
    {
     "ename": "ValueError",
     "evalue": "min() arg is an empty sequence",
     "output_type": "error",
     "traceback": [
      "\u001b[1;31m---------------------------------------------------------------------------\u001b[0m",
      "\u001b[1;31mValueError\u001b[0m                                Traceback (most recent call last)",
      "\u001b[1;32mc:\\Users\\oakos\\Desktop\\python-challenge- - Copy\\Pybank\\main.ipynb Cell 14\u001b[0m line \u001b[0;36m2\n\u001b[0;32m      <a href='vscode-notebook-cell:/c%3A/Users/oakos/Desktop/python-challenge-%20-%20Copy/Pybank/main.ipynb#X14sZmlsZQ%3D%3D?line=0'>1</a>\u001b[0m \u001b[39m# To calculate greatest decrease in profit\u001b[39;00m\n\u001b[1;32m----> <a href='vscode-notebook-cell:/c%3A/Users/oakos/Desktop/python-challenge-%20-%20Copy/Pybank/main.ipynb#X14sZmlsZQ%3D%3D?line=1'>2</a>\u001b[0m loss_increase \u001b[39m=\u001b[39m \u001b[39mmin\u001b[39;49m(changes_in_revenue)\n\u001b[0;32m      <a href='vscode-notebook-cell:/c%3A/Users/oakos/Desktop/python-challenge-%20-%20Copy/Pybank/main.ipynb#X14sZmlsZQ%3D%3D?line=2'>3</a>\u001b[0m \u001b[39mprint\u001b[39m(\u001b[39mf\u001b[39m\u001b[39m\"\u001b[39m\u001b[39mGreatest decrease in Losses: \u001b[39m\u001b[39m{\u001b[39;00m\u001b[39mstr\u001b[39m(months[changes_in_revenue\u001b[39m.\u001b[39mindex(\u001b[39mmin\u001b[39m(changes_in_revenue))\u001b[39m+\u001b[39m\u001b[39m1\u001b[39m])\u001b[39m}\u001b[39;00m\u001b[39m ($\u001b[39m\u001b[39m{\u001b[39;00mloss_increase\u001b[39m}\u001b[39;00m\u001b[39m)\u001b[39m\u001b[39m\"\u001b[39m )\n",
      "\u001b[1;31mValueError\u001b[0m: min() arg is an empty sequence"
     ]
    }
   ],
   "source": [
    "# To calculate greatest decrease in profit\n",
    "loss_increase = minimum(changes_in_revenue)\n",
    "print(f\"Greatest decrease in Losses: {str(months[changes_in_revenue.index(minimum(changes_in_revenue))+1])} (${loss_increase})\" )"
   ]
  },
  {
   "cell_type": "code",
   "execution_count": null,
   "metadata": {},
   "outputs": [],
   "source": [
    "# Output results\n",
    "final = open(\"textfile.txt\", \"w\")\n",
    "final.write(f\"Financial Analysis \\n\")\n",
    "final.write(f\"---------------------------- \\n\")\n",
    "final.write(\"Total Months: \" + str(len(months)) + \"\\n\")\n",
    "final.write(\"Total: $\"+ str(total_profit) + \"\\n\")\n",
    "final.write(\"Average Change: ${:.2f}\".format(average) + \"\\n\")\n",
    "final.write(f\"Greatest Increase in Profits: {str(months[changes_in_revenue.index(max(changes_in_revenue))+1])} (${profit_increase})\\n\")  \n",
    "final.write(f\"Greatest decrease in Losses: {str(months[changes_in_revenue.index(min(changes_in_revenue))+1])} (${loss_increase})\\n\")                                           \n",
    "final.close()"
   ]
  }
 ],
 "metadata": {
  "kernelspec": {
   "display_name": "dev",
   "language": "python",
   "name": "python3"
  },
  "language_info": {
   "codemirror_mode": {
    "name": "ipython",
    "version": 3
   },
   "file_extension": ".py",
   "mimetype": "text/x-python",
   "name": "python",
   "nbconvert_exporter": "python",
   "pygments_lexer": "ipython3",
   "version": "3.10.13"
  }
 },
 "nbformat": 4,
 "nbformat_minor": 2
}
