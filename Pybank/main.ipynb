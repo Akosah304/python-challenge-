{
 "cells": [
  {
   "cell_type": "code",
   "execution_count": 2,
   "metadata": {},
   "outputs": [],
   "source": [
    "from pathlib import Path\n",
    "import csv\n"
   ]
  },
  {
   "cell_type": "code",
   "execution_count": 3,
   "metadata": {},
   "outputs": [],
   "source": [
    "# Import csv file\n",
    "filepath = Path(\"Resources/budget_data.csv\")"
   ]
  },
  {
   "cell_type": "code",
   "execution_count": 4,
   "metadata": {},
   "outputs": [
    {
     "name": "stdout",
     "output_type": "stream",
     "text": [
      "Resources\\budget_data.csv\n"
     ]
    }
   ],
   "source": [
    "print(filepath)"
   ]
  },
  {
   "cell_type": "code",
   "execution_count": 5,
   "metadata": {},
   "outputs": [
    {
     "data": {
      "text/html": [
       "<div>\n",
       "<style scoped>\n",
       "    .dataframe tbody tr th:only-of-type {\n",
       "        vertical-align: middle;\n",
       "    }\n",
       "\n",
       "    .dataframe tbody tr th {\n",
       "        vertical-align: top;\n",
       "    }\n",
       "\n",
       "    .dataframe thead th {\n",
       "        text-align: right;\n",
       "    }\n",
       "</style>\n",
       "<table border=\"1\" class=\"dataframe\">\n",
       "  <thead>\n",
       "    <tr style=\"text-align: right;\">\n",
       "      <th></th>\n",
       "      <th>Date</th>\n",
       "      <th>Profit/Losses</th>\n",
       "    </tr>\n",
       "  </thead>\n",
       "  <tbody>\n",
       "    <tr>\n",
       "      <th>0</th>\n",
       "      <td>Jan-10</td>\n",
       "      <td>867884</td>\n",
       "    </tr>\n",
       "    <tr>\n",
       "      <th>1</th>\n",
       "      <td>Feb-10</td>\n",
       "      <td>984655</td>\n",
       "    </tr>\n",
       "    <tr>\n",
       "      <th>2</th>\n",
       "      <td>Mar-10</td>\n",
       "      <td>322013</td>\n",
       "    </tr>\n",
       "    <tr>\n",
       "      <th>3</th>\n",
       "      <td>Apr-10</td>\n",
       "      <td>-69417</td>\n",
       "    </tr>\n",
       "    <tr>\n",
       "      <th>4</th>\n",
       "      <td>May-10</td>\n",
       "      <td>310503</td>\n",
       "    </tr>\n",
       "    <tr>\n",
       "      <th>...</th>\n",
       "      <td>...</td>\n",
       "      <td>...</td>\n",
       "    </tr>\n",
       "    <tr>\n",
       "      <th>81</th>\n",
       "      <td>Oct-16</td>\n",
       "      <td>102685</td>\n",
       "    </tr>\n",
       "    <tr>\n",
       "      <th>82</th>\n",
       "      <td>Nov-16</td>\n",
       "      <td>795914</td>\n",
       "    </tr>\n",
       "    <tr>\n",
       "      <th>83</th>\n",
       "      <td>Dec-16</td>\n",
       "      <td>60988</td>\n",
       "    </tr>\n",
       "    <tr>\n",
       "      <th>84</th>\n",
       "      <td>Jan-17</td>\n",
       "      <td>138230</td>\n",
       "    </tr>\n",
       "    <tr>\n",
       "      <th>85</th>\n",
       "      <td>Feb-17</td>\n",
       "      <td>671099</td>\n",
       "    </tr>\n",
       "  </tbody>\n",
       "</table>\n",
       "<p>86 rows × 2 columns</p>\n",
       "</div>"
      ],
      "text/plain": [
       "      Date  Profit/Losses\n",
       "0   Jan-10         867884\n",
       "1   Feb-10         984655\n",
       "2   Mar-10         322013\n",
       "3   Apr-10         -69417\n",
       "4   May-10         310503\n",
       "..     ...            ...\n",
       "81  Oct-16         102685\n",
       "82  Nov-16         795914\n",
       "83  Dec-16          60988\n",
       "84  Jan-17         138230\n",
       "85  Feb-17         671099\n",
       "\n",
       "[86 rows x 2 columns]"
      ]
     },
     "execution_count": 5,
     "metadata": {},
     "output_type": "execute_result"
    }
   ],
   "source": [
    "import pandas as pd\n",
    "df = pd.read_csv(filepath)\n",
    "df"
   ]
  },
  {
   "cell_type": "code",
   "execution_count": 6,
   "metadata": {},
   "outputs": [],
   "source": [
    "# Define variables\n",
    "total_months = 0\n",
    "net_total = 0\n",
    "average = 0\n",
    "minimum = 0\n",
    "maximum = 0\n"
   ]
  },
  {
   "cell_type": "code",
   "execution_count": 7,
   "metadata": {},
   "outputs": [],
   "source": [
    "# Define variables\n",
    "max_date = []\n",
    "min_date = []"
   ]
  },
  {
   "cell_type": "code",
   "execution_count": 8,
   "metadata": {},
   "outputs": [
    {
     "data": {
      "text/plain": [
       "WindowsPath('Resources/budget_data.csv')"
      ]
     },
     "execution_count": 8,
     "metadata": {},
     "output_type": "execute_result"
    }
   ],
   "source": [
    "filepath"
   ]
  },
  {
   "cell_type": "code",
   "execution_count": 9,
   "metadata": {},
   "outputs": [
    {
     "name": "stdout",
     "output_type": "stream",
     "text": [
      "['Jan-10', '867884']\n",
      "['Feb-10', '984655']\n",
      "['Mar-10', '322013']\n",
      "['Apr-10', '-69417']\n",
      "['May-10', '310503']\n",
      "['Jun-10', '522857']\n",
      "['Jul-10', '1033096']\n",
      "['Aug-10', '604885']\n",
      "['Sep-10', '-216386']\n",
      "['Oct-10', '477532']\n",
      "['Nov-10', '893810']\n",
      "['Dec-10', '-80353']\n",
      "['Jan-11', '779806']\n",
      "['Feb-11', '-335203']\n",
      "['Mar-11', '697845']\n",
      "['Apr-11', '793163']\n",
      "['May-11', '485070']\n",
      "['Jun-11', '584122']\n",
      "['Jul-11', '62729']\n",
      "['Aug-11', '668179']\n",
      "['Sep-11', '899906']\n",
      "['Oct-11', '834719']\n",
      "['Nov-11', '132003']\n",
      "['Dec-11', '309978']\n",
      "['Jan-12', '-755566']\n",
      "['Feb-12', '1170593']\n",
      "['Mar-12', '252788']\n",
      "['Apr-12', '1151518']\n",
      "['May-12', '817256']\n",
      "['Jun-12', '570757']\n",
      "['Jul-12', '506702']\n",
      "['Aug-12', '-1022534']\n",
      "['Sep-12', '475062']\n",
      "['Oct-12', '779976']\n",
      "['Nov-12', '144175']\n",
      "['Dec-12', '542494']\n",
      "['Jan-13', '359333']\n",
      "['Feb-13', '321469']\n",
      "['Mar-13', '67780']\n",
      "['Apr-13', '471435']\n",
      "['May-13', '565603']\n",
      "['Jun-13', '872480']\n",
      "['Jul-13', '789480']\n",
      "['Aug-13', '999942']\n",
      "['Sep-13', '-1196225']\n",
      "['Oct-13', '268997']\n",
      "['Nov-13', '-687986']\n",
      "['Dec-13', '1150461']\n",
      "['Jan-14', '682458']\n",
      "['Feb-14', '617856']\n",
      "['Mar-14', '824098']\n",
      "['Apr-14', '581943']\n",
      "['May-14', '132864']\n",
      "['Jun-14', '448062']\n",
      "['Jul-14', '689161']\n",
      "['Aug-14', '800701']\n",
      "['Sep-14', '1166643']\n",
      "['Oct-14', '947333']\n",
      "['Nov-14', '578668']\n",
      "['Dec-14', '988505']\n",
      "['Jan-15', '1139715']\n",
      "['Feb-15', '1029471']\n",
      "['Mar-15', '687533']\n",
      "['Apr-15', '-524626']\n",
      "['May-15', '158620']\n",
      "['Jun-15', '87795']\n",
      "['Jul-15', '423389']\n",
      "['Aug-15', '840723']\n",
      "['Sep-15', '568529']\n",
      "['Oct-15', '332067']\n",
      "['Nov-15', '989499']\n",
      "['Dec-15', '778237']\n",
      "['Jan-16', '650000']\n",
      "['Feb-16', '-1100387']\n",
      "['Mar-16', '-174946']\n",
      "['Apr-16', '757143']\n",
      "['May-16', '445709']\n",
      "['Jun-16', '712961']\n",
      "['Jul-16', '-1163797']\n",
      "['Aug-16', '569899']\n",
      "['Sep-16', '768450']\n",
      "['Oct-16', '102685']\n",
      "['Nov-16', '795914']\n",
      "['Dec-16', '60988']\n",
      "['Jan-17', '138230']\n",
      "['Feb-17', '671099']\n"
     ]
    }
   ],
   "source": [
    "# Read csv file\n",
    "with open(filepath, newline=\"\") as budget_file:\n",
    "    csvreader = csv.reader(budget_file,delimiter=\",\")\n",
    "    header = next(csvreader)\n",
    "    for row in csvreader:\n",
    "        print(row)"
   ]
  },
  {
   "cell_type": "code",
   "execution_count": 10,
   "metadata": {},
   "outputs": [],
   "source": [
    "import pandas as pd\n",
    "budget_data = pd.read_csv(filepath)"
   ]
  },
  {
   "cell_type": "code",
   "execution_count": 11,
   "metadata": {},
   "outputs": [],
   "source": [
    "# To calculate total profit/loss\n",
    "Profit_loss= df['Profit/Losses'].sum()"
   ]
  },
  {
   "cell_type": "code",
   "execution_count": 12,
   "metadata": {},
   "outputs": [
    {
     "name": "stdout",
     "output_type": "stream",
     "text": [
      "Total: $ 38382578\n"
     ]
    }
   ],
   "source": [
    "print(\"Total: $\",Profit_loss)"
   ]
  },
  {
   "cell_type": "code",
   "execution_count": 13,
   "metadata": {},
   "outputs": [],
   "source": [
    "# Loop through data\n",
    "row_list = []\n",
    "month = []\n",
    "for index, row in df.iterrows():\n",
    "    row_list.append(int(row[1]))\n",
    "    month.append(row[0])"
   ]
  },
  {
   "cell_type": "code",
   "execution_count": 14,
   "metadata": {},
   "outputs": [
    {
     "name": "stdout",
     "output_type": "stream",
     "text": [
      "Total Month: 86\n"
     ]
    }
   ],
   "source": [
    "# To calculate total month\n",
    "print(\"Total Month:\", len(month))"
   ]
  },
  {
   "cell_type": "code",
   "execution_count": 15,
   "metadata": {},
   "outputs": [],
   "source": [
    "# To calculate average change in Profit/loss\n",
    "changes_in_revenue =[]\n",
    "for i in range(1, len(row_list)):\n",
    " changes_in_revenue.append((int(row_list[i])- int(row_list[i-1])))\n",
    "average = sum(changes_in_revenue)/len(changes_in_revenue)"
   ]
  },
  {
   "cell_type": "code",
   "execution_count": 16,
   "metadata": {},
   "outputs": [
    {
     "name": "stdout",
     "output_type": "stream",
     "text": [
      "Average Change: $-2315.12\n"
     ]
    }
   ],
   "source": [
    "print(\"Average Change: ${:.2f}\".format(average))"
   ]
  },
  {
   "cell_type": "code",
   "execution_count": 17,
   "metadata": {},
   "outputs": [
    {
     "name": "stdout",
     "output_type": "stream",
     "text": [
      "Greatest Increase in Profits: Feb-12 ($1926159)\n"
     ]
    }
   ],
   "source": [
    "# To calculate greatest increase in profit\n",
    "profit_increase = max(changes_in_revenue)\n",
    "print(f\"Greatest Increase in Profits: {str(month[changes_in_revenue.index(max(changes_in_revenue))+1])} (${profit_increase})\")"
   ]
  },
  {
   "cell_type": "code",
   "execution_count": 18,
   "metadata": {},
   "outputs": [
    {
     "name": "stdout",
     "output_type": "stream",
     "text": [
      "Greatest decrease in Losses: Sep-13 ($-2196167)\n"
     ]
    }
   ],
   "source": [
    "# To calculate greatest decrease in profit\n",
    "loss_increase = min(changes_in_revenue)\n",
    "print(f\"Greatest decrease in Losses: {str(month[changes_in_revenue.index(min(changes_in_revenue))+1])} (${loss_increase})\" )"
   ]
  },
  {
   "cell_type": "code",
   "execution_count": 21,
   "metadata": {},
   "outputs": [],
   "source": [
    "# Output results\n",
    "final = open(\"textfile.txt\", \"w\")\n",
    "final.write(f\"Financial Analysis \\n\")\n",
    "final.write(f\"---------------------------- \\n\")\n",
    "final.write(\"Total Months: \" + str(len(month)) + \"\\n\")\n",
    "final.write(\"Total: $\"+ str(Profit_loss) + \"\\n\")\n",
    "final.write(\"Average Change: ${:.2f}\".format(average) + \"\\n\")\n",
    "final.write(f\"Greatest Increase in Profits: {str(month[changes_in_revenue.index(max(changes_in_revenue))+1])} (${profit_increase})\\n\")  \n",
    "final.write(f\"Greatest decrease in Losses: {str(month[changes_in_revenue.index(min(changes_in_revenue))+1])} (${loss_increase})\\n\")                                           \n",
    "final.close()"
   ]
  }
 ],
 "metadata": {
  "kernelspec": {
   "display_name": "dev",
   "language": "python",
   "name": "python3"
  },
  "language_info": {
   "codemirror_mode": {
    "name": "ipython",
    "version": 3
   },
   "file_extension": ".py",
   "mimetype": "text/x-python",
   "name": "python",
   "nbconvert_exporter": "python",
   "pygments_lexer": "ipython3",
   "version": "3.10.13"
  }
 },
 "nbformat": 4,
 "nbformat_minor": 2
}
